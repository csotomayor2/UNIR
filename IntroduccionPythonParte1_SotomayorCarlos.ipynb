{
 "cells": [
  {
   "cell_type": "markdown",
   "metadata": {},
   "source": [
    "# INTRODUCCION A PYTHON (PARTE 1)"
   ]
  },
  {
   "cell_type": "markdown",
   "metadata": {},
   "source": [
    "**EJEMPLOS DEL TEMARIO :**"
   ]
  },
  {
   "cell_type": "markdown",
   "metadata": {},
   "source": [
    "* Comentarios, Función print(), Variable String y número entero\n",
    "* Constantes, Concatenamiento, Variables dinámicas\n",
    "* Variable Cadena y como acceder\n",
    "* Conjuntos son colecciones de datos no ordenadas y no se repiten\n",
    "* Listas\n",
    "* Tuplas\n",
    "* Diccionarios"
   ]
  },
  {
   "cell_type": "markdown",
   "metadata": {},
   "source": [
    "## 1. Comentarios, Función print(), Variable String y Variable Número entero"
   ]
  },
  {
   "cell_type": "code",
   "execution_count": 24,
   "metadata": {},
   "outputs": [
    {
     "name": "stdout",
     "output_type": "stream",
     "text": [
      "Hola Ecuador\n",
      "Beto\n"
     ]
    }
   ],
   "source": [
    "# Esto es comentario una linea\n",
    "''' Esto es comentario en varias lineas '''\n",
    "print(\"Hola Ecuador\")\n",
    "variable= \"Beto\"\n",
    "B= 45\n",
    "print(variable)"
   ]
  },
  {
   "cell_type": "markdown",
   "metadata": {},
   "source": [
    "## 2. Constantes, Concatenamiento, Variables dinámicas"
   ]
  },
  {
   "cell_type": "code",
   "execution_count": 25,
   "metadata": {},
   "outputs": [
    {
     "name": "stdout",
     "output_type": "stream",
     "text": [
      "45\n",
      "constante numerica 4677\n",
      "cadena de texto Hola Mundo\n",
      "variabe numerica 78\n",
      "cadena variable de texto Betin\n",
      "<class 'str'>\n"
     ]
    }
   ],
   "source": [
    "print(B) # variable de otra celda\n",
    "print(\"constante numerica \" + str(4677))\n",
    "print(\"cadena de texto \" + \"Hola Mundo\")\n",
    "variableNumerica=78\n",
    "variableString= \"Betin\"\n",
    "print(\"variabe numerica \" + str(variableNumerica))\n",
    "print(\"cadena variable de texto \" + variableString)\n",
    "prueba_Constante=str(8)\n",
    "print(type(prueba_Constante))"
   ]
  },
  {
   "cell_type": "markdown",
   "metadata": {},
   "source": [
    "##  3. Variable Cadena y como acceder"
   ]
  },
  {
   "cell_type": "code",
   "execution_count": 26,
   "metadata": {},
   "outputs": [
    {
     "name": "stdout",
     "output_type": "stream",
     "text": [
      " Lu\n",
      "El Mundo \n",
      "do Luchando contra el virus\n"
     ]
    }
   ],
   "source": [
    "cadena= \"El Mundo Luchando contra el virus\"\n",
    "print(cadena[8:11]) # rango\n",
    "print(cadena[ :9])  # posición 0 a 9\n",
    "print(cadena[6: ])  # posición 6 hasta lenght"
   ]
  },
  {
   "cell_type": "markdown",
   "metadata": {},
   "source": [
    "## 4. Conjuntos son colecciones de datos no ordenadas y no se repiten"
   ]
  },
  {
   "cell_type": "code",
   "execution_count": 20,
   "metadata": {},
   "outputs": [
    {
     "name": "stdout",
     "output_type": "stream",
     "text": [
      "{'audi', 'mazda', 'toyota', 'mercedes'}\n",
      "<class 'set'>\n",
      "audi\n",
      "audi\n",
      "{'mazda', 'toyota', 'mercedes'}\n",
      "{'ford', 'toyota', 'mercedes', 'mazda'}\n",
      "{'ford', 'toyota', 'mercedes', 'mazda'}\n"
     ]
    }
   ],
   "source": [
    "# Esto es un conjunto\n",
    "autos={'mazda', 'audi', 'mercedes', 'toyota'}\n",
    "print(autos)\n",
    "print(type(autos))\n",
    "\n",
    "# iter crea un iterador\n",
    "print(next(iter(autos)))\n",
    "print(autos.pop())\n",
    "print(autos)\n",
    "autos.add(\"ford\")\n",
    "print(autos)\n",
    "autos.add(\"toyota\")\n",
    "print(autos)\n",
    "# Un conjunto no tiene elementos repetidos"
   ]
  },
  {
   "cell_type": "markdown",
   "metadata": {},
   "source": [
    "## 5. Listas"
   ]
  },
  {
   "cell_type": "code",
   "execution_count": 22,
   "metadata": {},
   "outputs": [
    {
     "name": "stdout",
     "output_type": "stream",
     "text": [
      "['empanada', 'fritada', 'hornado', 'guatita']\n",
      "<class 'list'>\n",
      "{'empanada', 'guatita', 'hornado', 'fritada'}\n",
      "<class 'set'>\n",
      "False\n",
      "False\n",
      "['empanada', 'fritada', 'hornado', 'guatita', 'menestra']\n",
      "{'empanada', 'guatita', 'hornado', 'fritada'}\n",
      "0\n"
     ]
    }
   ],
   "source": [
    "# esto es una lista\n",
    "comida_tipica=['empanada', 'fritada', 'hornado', 'guatita']\n",
    "print(comida_tipica)\n",
    "print(type(comida_tipica))\n",
    "# convierte una lista en un conjunto\n",
    "comida_tipicaSet= set(comida_tipica)\n",
    "print(comida_tipicaSet)\n",
    "print(type(comida_tipicaSet))\n",
    "# el operador in no dice si el elemento esta en una lista o conjunto\n",
    "en_manta= 'ceviche' in comida_tipica\n",
    "print(en_manta)\n",
    "en_manta_conjunto = 'ceviche' in comida_tipicaSet\n",
    "print(en_manta_conjunto)\n",
    "\n",
    "# comida_tipica. y pulsando tab y aparece lista de funciones donde se pueden invocar la variable\n",
    "comida_tipica.insert(len(comida_tipica), 'menestra')\n",
    "print(comida_tipica)\n",
    "print(comida_tipicaSet)\n",
    "print(comida_tipica.index('empanada'))"
   ]
  },
  {
   "cell_type": "markdown",
   "metadata": {},
   "source": [
    "## 6. TUPLAS"
   ]
  },
  {
   "cell_type": "code",
   "execution_count": 5,
   "metadata": {},
   "outputs": [
    {
     "data": {
      "text/plain": [
       "1"
      ]
     },
     "execution_count": 5,
     "metadata": {},
     "output_type": "execute_result"
    }
   ],
   "source": [
    "tupla= (1,2,3,4,5)\n",
    "tupla[0]#=9  \n",
    "#Las tuplas no se pueden cambiar"
   ]
  },
  {
   "cell_type": "markdown",
   "metadata": {},
   "source": [
    "## 7. Diccionarios: se puede asignar clave:valor , son conjuntos especiales"
   ]
  },
  {
   "cell_type": "code",
   "execution_count": 23,
   "metadata": {},
   "outputs": [
    {
     "name": "stdout",
     "output_type": "stream",
     "text": [
      "{'nombre': 'Carlos', 'Edad': 38, 'Materias': ['Aprendizaje Automático', 'Investigación IA', 'Neurociencia']}\n",
      "Carlos\n",
      "38\n",
      "['Aprendizaje Automático', 'Investigación IA', 'Neurociencia']\n",
      "Recorrido de Diccionario\n",
      "nombre : Carlos\n",
      "Edad : 38\n",
      "Materias : ['Aprendizaje Automático', 'Investigación IA', 'Neurociencia']\n",
      "Recorrido de Diccionario\n"
     ]
    }
   ],
   "source": [
    "diccionario= {'nombre':'Carlos', 'Edad':38, 'Materias': ['Aprendizaje Automático','Investigación IA','Neurociencia']}\n",
    "print(diccionario)\n",
    "print(diccionario['nombre'])\n",
    "print(diccionario['Edad'])\n",
    "print(diccionario['Materias'])\n",
    "#recorrido\n",
    "print(\"Recorrido de Diccionario\")\n",
    "for key in diccionario:\n",
    "    print(key,':',diccionario[key])\n",
    "    \n",
    "diccionario.clear()\n",
    "print(\"Recorrido de Diccionario\")\n",
    "for key in diccionario:\n",
    "    print(key,':',diccionario[key])"
   ]
  }
 ],
 "metadata": {
  "kernelspec": {
   "display_name": "Python 3",
   "language": "python",
   "name": "python3"
  },
  "language_info": {
   "codemirror_mode": {
    "name": "ipython",
    "version": 3
   },
   "file_extension": ".py",
   "mimetype": "text/x-python",
   "name": "python",
   "nbconvert_exporter": "python",
   "pygments_lexer": "ipython3",
   "version": "3.7.6"
  }
 },
 "nbformat": 4,
 "nbformat_minor": 4
}
